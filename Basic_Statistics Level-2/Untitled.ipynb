{
 "cells": [
  {
   "cell_type": "code",
   "execution_count": 2,
   "id": "c4a3362e",
   "metadata": {},
   "outputs": [],
   "source": [
    "from scipy.stats import norm"
   ]
  },
  {
   "cell_type": "code",
   "execution_count": 3,
   "id": "676af5b4",
   "metadata": {},
   "outputs": [
    {
     "data": {
      "text/plain": [
       "0.09175913565028077"
      ]
     },
     "execution_count": 3,
     "metadata": {},
     "output_type": "execute_result"
    }
   ],
   "source": [
    "#calculate probability that random value is less than 1.96 in normal CDF\n",
    "\n",
    "norm.cdf(-1.33)"
   ]
  },
  {
   "cell_type": "code",
   "execution_count": 4,
   "id": "55bb4abd",
   "metadata": {},
   "outputs": [],
   "source": [
    "import numpy as np"
   ]
  },
  {
   "cell_type": "code",
   "execution_count": 5,
   "id": "d17fe6e1",
   "metadata": {},
   "outputs": [],
   "source": [
    "# Given data in percentage\n",
    "data = np.array([24.23, 25.53, 25.41, 24.14, 29.62, 28.25, 25.81, 24.39, 40.26,\n",
    "                 32.95, 91.36, 25.99, 39.42, 26.71, 35.00])"
   ]
  },
  {
   "cell_type": "code",
   "execution_count": 6,
   "id": "475d88de",
   "metadata": {},
   "outputs": [],
   "source": [
    "# Convert percentages to decimals\n",
    "data = data / 100"
   ]
  },
  {
   "cell_type": "code",
   "execution_count": 7,
   "id": "0057c856",
   "metadata": {},
   "outputs": [
    {
     "name": "stdout",
     "output_type": "stream",
     "text": [
      "Mean: 0.3327133333333333\n",
      "Standard Deviation: 0.16370812590976933\n",
      "Variance: 0.026800350488888885\n"
     ]
    }
   ],
   "source": [
    "# Calculate mean (μ), standard deviation (σ), and variance (σ^2)\n",
    "mean = np.mean(data)\n",
    "std_dev = np.std(data)\n",
    "variance = np.var(data)\n",
    "\n",
    "print(\"Mean:\", mean)\n",
    "print(\"Standard Deviation:\", std_dev)\n",
    "print(\"Variance:\", variance)"
   ]
  },
  {
   "cell_type": "code",
   "execution_count": 8,
   "id": "d0d5612c",
   "metadata": {},
   "outputs": [
    {
     "name": "stdout",
     "output_type": "stream",
     "text": [
      "Outliers: [0.9136]\n"
     ]
    }
   ],
   "source": [
    "# Calculate the IQR\n",
    "Q1 = np.percentile(data, 25)\n",
    "Q3 = np.percentile(data, 75)\n",
    "IQR = Q3 - Q1\n",
    "\n",
    "# Calculate the lower and upper bounds for outliers\n",
    "lower_bound = Q1 - 1.5 * IQR\n",
    "upper_bound = Q3 + 1.5 * IQR\n",
    "\n",
    "# Identify outliers\n",
    "outliers = data[(data < lower_bound) | (data > upper_bound)]\n",
    "\n",
    "print(\"Outliers:\", outliers)"
   ]
  },
  {
   "cell_type": "code",
   "execution_count": null,
   "id": "a9db8f71",
   "metadata": {},
   "outputs": [],
   "source": []
  }
 ],
 "metadata": {
  "kernelspec": {
   "display_name": "Python 3 (ipykernel)",
   "language": "python",
   "name": "python3"
  },
  "language_info": {
   "codemirror_mode": {
    "name": "ipython",
    "version": 3
   },
   "file_extension": ".py",
   "mimetype": "text/x-python",
   "name": "python",
   "nbconvert_exporter": "python",
   "pygments_lexer": "ipython3",
   "version": "3.11.5"
  }
 },
 "nbformat": 4,
 "nbformat_minor": 5
}
